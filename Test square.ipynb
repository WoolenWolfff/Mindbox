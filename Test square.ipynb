{
 "cells": [
  {
   "cell_type": "markdown",
   "id": "b69e1480",
   "metadata": {},
   "source": [
    "### Импорт библиотеки"
   ]
  },
  {
   "cell_type": "code",
   "execution_count": 1,
   "id": "7f1ce6ea",
   "metadata": {},
   "outputs": [],
   "source": [
    "from s import S"
   ]
  },
  {
   "cell_type": "markdown",
   "id": "49d18e0e",
   "metadata": {},
   "source": [
    "### Тесты"
   ]
  },
  {
   "cell_type": "code",
   "execution_count": 2,
   "id": "c0d4c5e1",
   "metadata": {},
   "outputs": [
    {
     "name": "stdout",
     "output_type": "stream",
     "text": [
      "Радиус или длины сторон 5\n",
      "Площадь круга: 78.54\n"
     ]
    }
   ],
   "source": [
    "# Задан радиус 5\n",
    "S()"
   ]
  },
  {
   "cell_type": "code",
   "execution_count": 3,
   "id": "55b19b48",
   "metadata": {},
   "outputs": [
    {
     "name": "stdout",
     "output_type": "stream",
     "text": [
      "Радиус или длины сторон 10 20\n",
      "Площадь прямоугольника: 200.00\n"
     ]
    }
   ],
   "source": [
    "# Заданы длины сторон четырехугольника 10 и 20\n",
    "S()"
   ]
  },
  {
   "cell_type": "code",
   "execution_count": 4,
   "id": "6623859d",
   "metadata": {},
   "outputs": [
    {
     "name": "stdout",
     "output_type": "stream",
     "text": [
      "Радиус или длины сторон 10 10\n",
      "Площадь квадрата: 100.00\n"
     ]
    }
   ],
   "source": [
    "# Заданы длины сторон четырехугольника 10 и 10\n",
    "S()"
   ]
  },
  {
   "cell_type": "code",
   "execution_count": 5,
   "id": "9ab6ad96",
   "metadata": {},
   "outputs": [
    {
     "name": "stdout",
     "output_type": "stream",
     "text": [
      "Радиус или длины сторон 30 40 50\n",
      "Треугольник прямоугольный.\n",
      "Площадь: 600.00\n"
     ]
    }
   ],
   "source": [
    "# Заданы длины сторон треугольника 30, 40 и 50\n",
    "S()"
   ]
  },
  {
   "cell_type": "code",
   "execution_count": 6,
   "id": "45bd6cc7",
   "metadata": {},
   "outputs": [
    {
     "name": "stdout",
     "output_type": "stream",
     "text": [
      "Радиус или длины сторон 4 4 4\n",
      "Треугольник непрямоугольный.\n",
      "Площадь: 6.93\n"
     ]
    }
   ],
   "source": [
    "# Заданы длины сторон треугольника 4, 4 и 4\n",
    "S()"
   ]
  },
  {
   "cell_type": "code",
   "execution_count": 7,
   "id": "316b36a8",
   "metadata": {},
   "outputs": [
    {
     "name": "stdout",
     "output_type": "stream",
     "text": [
      "Радиус или длины сторон 5 7 9\n",
      "Треугольник непрямоугольный.\n",
      "Площадь: 17.41\n"
     ]
    }
   ],
   "source": [
    "# Заданы длины сторон треугольника 5, 7 и 9\n",
    "S()"
   ]
  },
  {
   "cell_type": "code",
   "execution_count": 8,
   "id": "d3a1a1d8",
   "metadata": {},
   "outputs": [
    {
     "name": "stdout",
     "output_type": "stream",
     "text": [
      "Радиус или длины сторон 1 2 3\n",
      "Треугольник с такими сторонами не существует.\n"
     ]
    }
   ],
   "source": [
    "# Заданы длины сторон треугольника 1, 2 и 3 \n",
    "S()"
   ]
  },
  {
   "cell_type": "code",
   "execution_count": 9,
   "id": "30ca3cf7",
   "metadata": {},
   "outputs": [
    {
     "name": "stdout",
     "output_type": "stream",
     "text": [
      "Радиус или длины сторон 1 2 3 4 5\n",
      "Непредусмотренное количество сторон.\n",
      "Радиус или длины сторон 1 1 1 1 1 1 1 1 1 \n",
      "Непредусмотренное количество сторон.\n",
      "Радиус или длины сторон 5 3 4\n",
      "Треугольник прямоугольный.\n",
      "Площадь: 6.00\n"
     ]
    }
   ],
   "source": [
    "# Дважды задано недопостимое количество длин, затем заданы длины треугольника 5, 3 и 4\n",
    "S()"
   ]
  },
  {
   "cell_type": "code",
   "execution_count": null,
   "id": "936b439d",
   "metadata": {},
   "outputs": [],
   "source": []
  }
 ],
 "metadata": {
  "kernelspec": {
   "display_name": "Python 3 (ipykernel)",
   "language": "python",
   "name": "python3"
  },
  "language_info": {
   "codemirror_mode": {
    "name": "ipython",
    "version": 3
   },
   "file_extension": ".py",
   "mimetype": "text/x-python",
   "name": "python",
   "nbconvert_exporter": "python",
   "pygments_lexer": "ipython3",
   "version": "3.11.5"
  }
 },
 "nbformat": 4,
 "nbformat_minor": 5
}
