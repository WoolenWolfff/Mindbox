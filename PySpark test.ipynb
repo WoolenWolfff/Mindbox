{
 "cells": [
  {
   "cell_type": "markdown",
   "metadata": {
    "id": "8M0eZ_1hPzmd"
   },
   "source": [
    "### Установка и импорт PySpark"
   ]
  },
  {
   "cell_type": "code",
   "execution_count": 53,
   "metadata": {
    "colab": {
     "base_uri": "https://localhost:8080/"
    },
    "id": "fROfXKJTAcTz",
    "outputId": "397f36e7-cd22-43f2-c553-810bec6c1f3b"
   },
   "outputs": [
    {
     "name": "stdout",
     "output_type": "stream",
     "text": [
      "Requirement already satisfied: pyspark in /usr/local/lib/python3.10/dist-packages (3.5.1)\n",
      "Requirement already satisfied: py4j==0.10.9.7 in /usr/local/lib/python3.10/dist-packages (from pyspark) (0.10.9.7)\n"
     ]
    }
   ],
   "source": [
    "!pip install pyspark"
   ]
  },
  {
   "cell_type": "code",
   "execution_count": 54,
   "metadata": {
    "id": "A3W42ajPmetI"
   },
   "outputs": [],
   "source": [
    "from pyspark.sql import SparkSession, DataFrame, functions\n",
    "from pyspark.sql.types import StructType, StructField, IntegerType, StringType"
   ]
  },
  {
   "cell_type": "code",
   "execution_count": 55,
   "metadata": {
    "id": "3sxIGS7WALg2"
   },
   "outputs": [],
   "source": [
    "spark = SparkSession.builder.appName(\"TestPySpark\").getOrCreate()"
   ]
  },
  {
   "cell_type": "markdown",
   "metadata": {
    "id": "YG0VnMRwP5zz"
   },
   "source": [
    "### Я решил создать датафреймы, чтобы проверить работу метода"
   ]
  },
  {
   "cell_type": "code",
   "execution_count": 56,
   "metadata": {
    "colab": {
     "base_uri": "https://localhost:8080/"
    },
    "id": "K5vhEPgNAtk7",
    "outputId": "91612fb6-1533-42f7-c44c-281ce009c15f"
   },
   "outputs": [
    {
     "name": "stdout",
     "output_type": "stream",
     "text": [
      "Products DataFrame:\n",
      "+----------+------------+\n",
      "|product_id|product_name|\n",
      "+----------+------------+\n",
      "|         1|      Молоко|\n",
      "|         2|        Хлеб|\n",
      "|         3|       Масло|\n",
      "|         4|        Яйца|\n",
      "|         5|         Сыр|\n",
      "|         6|         Сок|\n",
      "|         7|       Батон|\n",
      "|         8|      Яблоки|\n",
      "+----------+------------+\n",
      "\n",
      "Categories DataFrame:\n",
      "+-----------+--------------------+\n",
      "|category_id|       category_name|\n",
      "+-----------+--------------------+\n",
      "|          1|   Молочные продукты|\n",
      "|          2|Хлебобулочные изд...|\n",
      "|          3|              Фрукты|\n",
      "|          5|  Изделия из пшеницы|\n",
      "|          6|             Бакалея|\n",
      "+-----------+--------------------+\n",
      "\n",
      "Categories and Products DataFrame:\n",
      "+----------+-----------+\n",
      "|product_id|category_id|\n",
      "+----------+-----------+\n",
      "|         1|          1|\n",
      "|         2|          2|\n",
      "|         2|          5|\n",
      "|         3|          1|\n",
      "|         4|          4|\n",
      "|         5|          1|\n",
      "|         6|          4|\n",
      "|         7|          2|\n",
      "|         7|          5|\n",
      "|         8|          3|\n",
      "+----------+-----------+\n",
      "\n"
     ]
    }
   ],
   "source": [
    "# Таблица продуктов\n",
    "products_schema = StructType([\n",
    "    StructField(\"product_id\", IntegerType(), True),\n",
    "    StructField(\"product_name\", StringType(), True)\n",
    "])\n",
    "products_data = [\n",
    "    (1, \"Молоко\"),\n",
    "    (2, \"Хлеб\"),\n",
    "    (3, \"Масло\"),\n",
    "    (4, \"Яйца\"),\n",
    "    (5, \"Сыр\"),\n",
    "    (6, \"Сок\"),\n",
    "    (7, \"Батон\"),\n",
    "    (8, \"Яблоки\")\n",
    "]\n",
    "products_df = spark.createDataFrame(products_data, schema=products_schema)\n",
    "\n",
    "# Таблица категорий\n",
    "categories_schema = StructType([\n",
    "    StructField(\"category_id\", IntegerType(), True),\n",
    "    StructField(\"category_name\", StringType(), True)\n",
    "])\n",
    "categories_data = [\n",
    "    (1, \"Молочные продукты\"),\n",
    "    (2, \"Хлебобулочные изделия\"),\n",
    "    (3, \"Фрукты\"),\n",
    "    (5, \"Изделия из пшеницы\"),\n",
    "    (6, \"Бакалея\")\n",
    "]\n",
    "categories_df = spark.createDataFrame(categories_data, schema=categories_schema)\n",
    "\n",
    "# Связи продуктов с категориями\n",
    "schema_product_category = StructType([\n",
    "    StructField(\"product_id\", IntegerType(), True),\n",
    "    StructField(\"category_id\", IntegerType(), True)\n",
    "])\n",
    "product_category_data = [(1, 1),\n",
    "                      (2, 2),\n",
    "                      (2, 5),\n",
    "                      (3, 1),\n",
    "                      (4, 4),\n",
    "                      (5, 1),\n",
    "                      (6, 4),\n",
    "                      (7, 2),\n",
    "                      (7, 5),\n",
    "                      (8, 3)\n",
    "                      ]\n",
    "product_category_df = spark.createDataFrame(product_category_data, schema_product_category)\n",
    "\n",
    "print(\"Products DataFrame:\")\n",
    "products_df.show()\n",
    "print(\"Categories DataFrame:\")\n",
    "categories_df.show()\n",
    "print(\"Categories and Products DataFrame:\")\n",
    "product_category_df.show()"
   ]
  },
  {
   "cell_type": "markdown",
   "metadata": {
    "id": "RxmhRMCCQIxL"
   },
   "source": [
    "### Итоговый DataFrame  \n",
    "Сначала объединяю таблицу **products_df** с промежуточной таблицей **product_category_df** (объединение *inner*). Далее объединяю с таблицей категорий **categories_df** (объединение *left*, т.к. в задании сказано, чтобы были все продукты, даже без категории).  \n",
    "Далее выкидываю ненужные столбцы, переименовываю оставшиеся. Заменяю значения NULL на что-то более понятное."
   ]
  },
  {
   "cell_type": "code",
   "execution_count": 57,
   "metadata": {
    "colab": {
     "base_uri": "https://localhost:8080/"
    },
    "id": "svLADGpyBUE7",
    "outputId": "08165387-87ff-49bb-c412-2be4c734f998"
   },
   "outputs": [
    {
     "name": "stdout",
     "output_type": "stream",
     "text": [
      "+-------+---------------------+\n",
      "|Продукт|Категория            |\n",
      "+-------+---------------------+\n",
      "|Батон  |Изделия из пшеницы   |\n",
      "|Батон  |Хлебобулочные изделия|\n",
      "|Масло  |Молочные продукты    |\n",
      "|Молоко |Молочные продукты    |\n",
      "|Сок    |--Без категории--    |\n",
      "|Сыр    |Молочные продукты    |\n",
      "|Хлеб   |Изделия из пшеницы   |\n",
      "|Хлеб   |Хлебобулочные изделия|\n",
      "|Яблоки |Фрукты               |\n",
      "|Яйца   |--Без категории--    |\n",
      "+-------+---------------------+\n",
      "\n"
     ]
    }
   ],
   "source": [
    "result = products_df.join(product_category_df, \"product_id\").\\\n",
    "join(categories_df, \"category_id\", \"left\").drop(\"category_id\", \"product_id\").\\\n",
    "orderBy(functions.asc(\"product_name\"))\n",
    "\n",
    "result = result.withColumnRenamed(\"product_name\", \"Продукт\").\\\n",
    "withColumnRenamed(\"category_name\", \"Категория\")\n",
    "\n",
    "result = result.na.fill(\"--Без категории--\", subset=[\"Категория\"])\n",
    "\n",
    "result.show(truncate=False)"
   ]
  },
  {
   "cell_type": "code",
   "execution_count": 58,
   "metadata": {
    "id": "CwCJQNWPOInb"
   },
   "outputs": [],
   "source": [
    "spark.stop()"
   ]
  }
 ],
 "metadata": {
  "colab": {
   "provenance": []
  },
  "kernelspec": {
   "display_name": "Python 3 (ipykernel)",
   "language": "python",
   "name": "python3"
  },
  "language_info": {
   "codemirror_mode": {
    "name": "ipython",
    "version": 3
   },
   "file_extension": ".py",
   "mimetype": "text/x-python",
   "name": "python",
   "nbconvert_exporter": "python",
   "pygments_lexer": "ipython3",
   "version": "3.11.5"
  }
 },
 "nbformat": 4,
 "nbformat_minor": 1
}
